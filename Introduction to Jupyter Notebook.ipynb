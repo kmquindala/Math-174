{
 "cells": [
  {
   "cell_type": "markdown",
   "metadata": {},
   "source": [
    "# Welcome to Jupyter Notebook\n",
    "---\n",
    "The **Jupyter Notebook** is an open-source web application that allows you to create and share documents that contain live code, equations, visualizations and narrative text. Uses include: data cleaning and transformation, numerical simulation, statistical modeling, data visualization, machine learning, and much more.\n",
    "\n",
    "Here you can display and run codes (*if you are viewing this notebook on binder, double click on the cell below and press shift-enter to run the code*):"
   ]
  },
  {
   "cell_type": "code",
   "execution_count": null,
   "metadata": {
    "scrolled": true
   },
   "outputs": [],
   "source": [
    "for i in range(1,10):\n",
    "    print(\"Approve\")\n",
    "    if i==5:\n",
    "        print(\"Both approve\")\n",
    "        break"
   ]
  },
  {
   "cell_type": "markdown",
   "metadata": {},
   "source": [
    "You can also typeset equations in Latex:\n",
    "\\begin{equation}\n",
    "%you may use also the $ symbol\n",
    "P(x)=\\sum^n_{i=0}a_ix^i=a_nx^n+a_{n-1}x^{n-1}+a_1x+a_0\n",
    "\\end{equation}\n",
    "and display pictures like the one below (just make sure that the image is stored at the directory where the *ipynb* file is also saved):\n",
    "\n",
    "<img src=\"dog.jpg\" width=\"720\" height=\"480\" />\n",
    "\n",
    "or you can write a narrative in plain text:\n",
    "\n",
    "         Pellentesque habitant morbi tristique senectus et netus et malesuada fames ac turpis egestas. Vestibulum tortor quam, feugiat vitae, ultricies eget, tempor sit amet, ante. Donec eu libero sit amet quam egestas semper. Aenean ultricies mi vitae est. Mauris placerat eleifend leo. Quisque sit amet est et sapien ullamcorper pharetra. Vestibulum erat wisi, condimentum sed, commodo vitae, ornare sit amet, wisi. Aenean fermentum, elit eget tincidunt condimentum, eros ipsum rutrum orci, sagittis tempus lacus enim ac dui. Donec non enim in turpis pulvinar facilisis. Ut felis. Praesent dapibus, neque id cursus faucibus, tortor neque egestas augue, eu vulputate magna eros eu erat. Aliquam erat volutpat. Nam dui mi, tincidunt quis, accumsan porttitor, facilisis luctus, metus"
   ]
  },
  {
   "cell_type": "markdown",
   "metadata": {},
   "source": [
    "## Let's Take A Closer Look\n",
    "---"
   ]
  },
  {
   "cell_type": "markdown",
   "metadata": {},
   "source": [
    "Notice that when you click on a cell, it is highlighted as blue. This is the **command mode** of the user interface. If you click on the editing area, the cell will be highlighted as green and this is the **edit mode** of the user interface. A cell will behave differently, when it is on command or edit mode. The table below shows some keyboard shortcuts for both modes.\n",
    "\n",
    "<img src=\"keyboard.png\"/>"
   ]
  },
  {
   "cell_type": "markdown",
   "metadata": {},
   "source": [
    "For more information about the basics of Jupyter Notebook visit the [Notebook Index](https://notebooks.gesis.org/binder/jupyter/user/ipython-ipython-in-depth-h54uzukz/notebooks/binder/Index.ipynb) site and click on each topic."
   ]
  },
  {
   "cell_type": "markdown",
   "metadata": {},
   "source": [
    "---"
   ]
  },
  {
   "cell_type": "markdown",
   "metadata": {},
   "source": [
    "# Using Jupyter Notebook in Numerical Analysis\n",
    "\n",
    "Due to its features, the Jupyter Notebook is convenient to use as a teaching module. In our class, we will use it to:\n",
    "\n",
    "\n",
    "1. Introduce concepts and theories.\n",
    "    - Discuss the motivation of the method.\n",
    "    - Discuss the assumptions of the method.\n",
    "    - Discuss its limitations.\n",
    "    \n",
    "2. Present the algorithms for each method and its applications.\n",
    "3. Discuss the error associated to the method."
   ]
  },
  {
   "cell_type": "markdown",
   "metadata": {},
   "source": [
    "### References:\n",
    "1. *Introduction to Numerical Analysis* by Suli and Mayers (recommended for the theoretical aspect of the course and pursuing a graduate degree is on the minds of our students)\n",
    "2. *Numerical Analysis* by Timothy Sauer (if you need a shortcut to everything)\n",
    "3. *Numerical Analysis* by Burden and Faires (plenty of examples and the most human friendly book)\n",
    "4. *Numerical Methods using Matlab* by Mathews and Fink (if Sauer, Burden and Faires had a child then this is it)\n",
    "5. The *internet* (always bring it with you especially if you have less than an hour to prepare for the lecture)"
   ]
  },
  {
   "cell_type": "code",
   "execution_count": null,
   "metadata": {},
   "outputs": [],
   "source": []
  }
 ],
 "metadata": {
  "kernelspec": {
   "display_name": "Python 3",
   "language": "python",
   "name": "python3"
  },
  "language_info": {
   "codemirror_mode": {
    "name": "ipython",
    "version": 3
   },
   "file_extension": ".py",
   "mimetype": "text/x-python",
   "name": "python",
   "nbconvert_exporter": "python",
   "pygments_lexer": "ipython3",
   "version": "3.7.6"
  }
 },
 "nbformat": 4,
 "nbformat_minor": 2
}
