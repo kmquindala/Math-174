{
 "cells": [
  {
   "cell_type": "markdown",
   "metadata": {},
   "source": [
    "# Math 174 Study Guide | Unit 1. Introduction\n",
    "# Week 1. Mathematical Preliminaries\n",
    "\n",
    "   A good foundation in calculus is essential in numerical analysis. In this section, we will review some well-known concepts and results in calculus. We start with the definitions of the limit, continuity and differentiability.\n",
    "   \n",
    "   ## Learning objectives\n",
    "At the end of this section, you should be able to:\n",
    "1.\tCompute the Taylor polynomial for a of function.\n",
    "2. Compute the bound for the truncation error.\n",
    "\n",
    "\n",
    "## Topic 1 (REVIEW OF CALCULUS). (Study time: 20 minutes)\n",
    "\n",
    "**Definition (Limit of a Function):**\n",
    "\n",
    "   Let $f$ be a function defined on an open interval $I$ of real numbers except possibly at $x_0\\in I$. The real number $L$ is said to be the *limit* of $f$ at $x_0$, written $$\\lim_{x\\to x_0}f(x)=L,$$ if for any real number $\\epsilon>0$, there exists a real number $\\delta>0$ such that $$|f(x)-L|<\\epsilon$$ whenever $x\\in I$ and $0<|x-x_0|<\\delta$.\n",
    "   \n",
    "\n",
    " From the definition of the limit alone, we can identify some important ideas that will arise as we progress in the course. Suppose that the limit $L$ exists but we cannot solve it directly using classical techniques. The best way for us to approximate the value of $L$ is to identify the behavior of the function values $f(x)'s$ as $x$ approaches $x_0$ from the left and the right. Hence, we can think of the $f(x)'s$ as *approximations* for $L$. What about $\\epsilon$? Consider the example below.\n",
    "\n",
    " **Example:**  \n",
    " \n",
    " Let $f$ be the function defined by $$f(x)=\\frac{x-1}{x+1}$$ and let us evaluate $\\displaystyle\\lim_{x\\to 2}f(x)$. The algorithm below will generate the behavior of the $f(x)'s$ as $x$ approaches 2 from the left and from the right.\n",
    " \n",
    " *Note: To run the code below, double click on any line of the code until the entire cell is highlighted as green and press \"Shift+Enter\". Otherwise, copy the code to your python editor and run the program.*"
   ]
  },
  {
   "cell_type": "code",
   "execution_count": 1,
   "metadata": {},
   "outputs": [
    {
     "name": "stdout",
     "output_type": "stream",
     "text": [
      "Values of x to the left of 2:\n",
      "[1.999, 1.998, 1.997, 1.996, 1.995]\n",
      "Values of f(x) as x approaches 2 from the left:\n",
      "[0.33311103701233746, 0.3328885923949299, 0.33266599933266605, 0.3324432576769025, 0.332220367278798]\n",
      "Values of x to the right of 2:\n",
      "[2.001, 2.002, 2.003, 2.004, 2.005]\n",
      "Values of f(x) as x approaches 2 from the right:\n",
      "[0.3335554815061646, 0.3337774816788807, 0.333999333999334, 0.33422103861517977, 0.33444259567387685]\n"
     ]
    }
   ],
   "source": [
    "#this is a basic algorithm to generate function values\n",
    "#declare empty lists x1, x2, y1 and y2\n",
    "x1=[]\n",
    "x2=[]\n",
    "y1=[]\n",
    "y2=[]\n",
    "#declare h as the step size\n",
    "h=0.001\n",
    "#define a function f(x)\n",
    "def f(x):\n",
    "    return (x-1)/(x+1)\n",
    "#example of a for loop which uses 5 indexes\n",
    "for i in range(1,6):\n",
    "    x1.append(2-i*h)\n",
    "    y1.append(f(2-i*h))\n",
    "    x2.append(2+i*h)\n",
    "    y2.append(f(2+i*h))\n",
    "    \n",
    "print('Values of x to the left of 2:')\n",
    "print(x1)\n",
    "print('Values of f(x) as x approaches 2 from the left:')    \n",
    "print(y1)\n",
    "print('Values of x to the right of 2:')\n",
    "print(x2)\n",
    "print('Values of f(x) as x approaches 2 from the right:')\n",
    "print(y2)"
   ]
  },
  {
   "cell_type": "markdown",
   "metadata": {},
   "source": [
    " \n",
    " Solving for the limit analytically, we can see that $\\displaystyle\\lim_{x\\to 2}f(x)=\\frac{1}{3}=0.333333\\ldots$. If $x=1.998$, we have $f(x)\\approx 0.332889$ and $$|f(x)-L|=\\left|0.332889-\\frac{1}{3}\\right|\\approx 0.000444$$ while if $x=1.999$, we have $f(x)=0.333111$ and $$|f(x)-L|=\\left|0.333111-\\frac{1}{3}\\right|\\approx 0.000222.$$ Thus, if we want to approximate $\\displaystyle\\frac{1}{3}$ up to 3 decimals, we cannot have $0.000444$ as the *tolerance* or the *error* of approximation. A tolerance of at most $0.000222$ is necessary to achieve the desired accuracy. In the context of numerical analysis, we often associate $\\epsilon$ to the error or tolerance of approximation. We will get more on this as we proceed to the next sections.\n",
    " \n",
    "\n",
    "**Definition (Continuity):**\n",
    "\n",
    "   Let $f$ be a function defined on a set $X$ of real numbers and $x_0\\in X$. Then $f$ is *continuous* at $x_0$ if $$\\displaystyle \\lim_{x\\to x_0}=f(x_0).$$ The function $f$ is *continuous on the set $X$* if it is continuous at each number in $X$.\n",
    "   \n",
    "**Definition (Derivative of a Function):**\n",
    "\n",
    "Let $f$ be a function defined in an open interval containing $x_0$. The function $f$ is *differentiable* at $x_0$ if $$f'(x_0)=\\lim_{x\\to x_0}\\frac{f(x)-f(c)}{x-c}$$ exists. The number $f'(c)$ is called the *derivative of $f$ at c*. A function that has a derivative at each number in a set $X$ is *differentiable on $X$*.\n",
    "\n",
    "\n",
    "From here and onwards, we will denote $C(X)$ as the set of all functions that is continuous on the set $X$ while we denote by $C^n(X)$ the set of all functions that are $n$-times differentiable and all orders of its derivatives are continuous. In most case, we will consider $X=[a,b]$ where $a,b$ are real numbers. We will now recall some important theorems whose proofs are found in standard textbooks in calculus.\n",
    "\n",
    "\n",
    "\n",
    "**Rolle's Theorem:**\n",
    "\n",
    "Suppose $f\\in C[a,b]$ and $f$ is differentiable on $(a,b)$. If $f(a)=f(b)$, then a number $c$ in $(a,b)$ exists with $f'(c)=0$.\n",
    "\n",
    "**Mean Value Theorem:**\n",
    "\n",
    "If $f\\in C[a,b]$ and $f$ is differentiable on $(a,b)$, then a number $c$ in $(a,b)$ exists with $$f'(c)=\\frac{f(b)-f(a)}{b-a}.$$\n",
    "\n",
    "**Extreme Value Theorem:**\n",
    "\n",
    "If $f\\in C[a,b]$, then $c_1,c_2\\in[a,b]$ exist with $f(c_1)\\leq f(x)\\leq f(c_2)$, for all $x\\in[a,b]$. In addition, if $f$ is differentiable on $(a,b)$, then the numbers $c_1$ and $c_2$ occur either at the endpoints of $[a,b]$ or where $f'$ is zero.\n",
    "\n",
    "*Remark: This theorem guarantees the existence of the largest and smallest values of a function that is continuous on the interval $[a,b]$. There are several ways, such as the first and second derivative tests, to find the extreme values of a function and knowing these techniques is very useful when we will study on how to give a maximum bound for the error. It is assumed that the reader is already familiar with these methods. Otherwise, click on the following link to learn more about the [tests for the relative extrema](https://www.math.ucdavis.edu/~kouba/CalcOneDIRECTORY/graphingdirectory/Graphing.html).*\n",
    "\n",
    "**Intermediate Value Theorem:**\n",
    "\n",
    "If $f\\in C[a,b]$ and $K$ is any number between $f(a)$ and $f(b)$, then there exists a number $c$ in $(a,b)$ for which $f(c)=K$.\n",
    "\n",
    "\n",
    "\n",
    "### Taylor Polynomials and Series\n",
    "\n",
    "We will end our review on calculus with the theory on Taylor polynomials and Taylor series."
   ]
  },
  {
   "cell_type": "markdown",
   "metadata": {},
   "source": [
    "**Taylor's Theorem:**\n",
    "\n",
    "Suppose that $f\\in C^n[a,b]$, its $n+1$-st derivative exists on $[a,b]$ and $x_0\\in[a,b]$. For every $x\\in[a,b]$, there exists a number $\\xi(x)$ between $x_0$ and $x$ with $$f(x)=P_n(x)+R_n(x),$$\n",
    "where \\begin{align*}\n",
    "P_n(x)&=f(x_0)+f'(x_0)(x-x_0)+\\frac{f''(x_0)}{2!}(x-x_0)^2+\\cdots+\\frac{f^{(n)}(x_0)}{n!}(x-x_0)^n\\\\\n",
    "&=\\sum^n_{k=0}\\frac{f^{(k)}(x_0)}{k!}(x-x_0)^k\n",
    "\\end{align*}\n",
    "and $$R_n(x)=\\frac{f^{(n+1)}(\\xi(x))}{(n+1)!}(x-x_0)^{n+1}.$$\n",
    "\n",
    "The term $P_n(x)$ is called the **$n$th Taylor Polynomial** for $f$ about $x_0$ and $R_n(x)$ is called the **remainder (truncation error)**. If we let $n\\to\\infty$ in $P_n(x)$, we obtain what is called the **Taylor series** expansion for $f$ about $x_0$. If $x_0=0$, the polynomial (resp. series) is calle the **McLaurin polynomial (resp. series)**.\n",
    "\n",
    "Let us illustrate Taylor's theorem using a familiar example. Consider $f(x)=e^x$ and $x_0=0$. Since the derivative of $e^x$ is always $e^x$ and $e^0=1$, the McLaurin series expansion of $e^x$ about $0$ is given by $$e^x=\\sum^{\\infty}_{k=0}\\frac{x^k}{k!}.$$ The table below shows the first six McLaurin polynomials for $e^x$:\n",
    "\n",
    "    \n",
    "Degree|<div style=\"width:50px\">$P_n(x)$ </div>|<div style=\"width:200px\">Polynomial </div>\n",
    "------|---|----------\n",
    "   0  |$P_0(x)$|    1     \n",
    "   1  |$P_1(x)$|    $1+x$   \n",
    "   2  |$P_2(x)$|$1+x+\\frac{x^2}{2}$\n",
    "   3  |$P_3(x)$|$1+x+\\frac{x^2}{2}+\\frac{x^3}{6}$\n",
    "   4  |$P_4(x)$|$1+x+\\frac{x^2}{2}+\\frac{x^3}{6}+\\frac{x^4}{24}$\n",
    "   5  |$P_5(x)$|$1+x+\\frac{x^2}{2}+\\frac{x^3}{6}+\\frac{x^4}{24}+\\frac{x^5}{120}$\n",
    "\n",
    "Let us now compare each polynomial to $e^x$. The code below will plot the first six McLaurin polynomials and $e^x$."
   ]
  },
  {
   "cell_type": "code",
   "execution_count": 2,
   "metadata": {
    "scrolled": true
   },
   "outputs": [
    {
     "data": {
      "image/png": "[encoded data removed]",
      "text/plain": [
       "<Figure size 432x288 with 1 Axes>"
      ]
     },
     "metadata": {
      "needs_background": "light"
     },
     "output_type": "display_data"
    }
   ],
   "source": [
    "import matplotlib.pyplot as plt\n",
    "import numpy as np\n",
    "\n",
    "\n",
    "# 100 linearly spaced numbers\n",
    "x = np.linspace(-4,4,50)\n",
    "\n",
    "# the function, which is y = x^2 here\n",
    "y = np.e**x\n",
    "z1 = 1+x\n",
    "z2 = 1+x+x**2/2\n",
    "z3 = 1+x+x**2/2+x**3/6\n",
    "z4 = 1+x+x**2/2+x**3/6+x**4/24\n",
    "z5 = 1+x+x**2/2+x**3/6+x**4/24+x**5/120\n",
    "\n",
    "# setting the axes at the centre\n",
    "fig = plt.figure()\n",
    "ax = fig.add_subplot(1, 1, 1)\n",
    "ax.spines['left'].set_position('center')\n",
    "ax.spines['bottom'].set_position('zero')\n",
    "ax.spines['right'].set_color('none')\n",
    "ax.spines['top'].set_color('none')\n",
    "ax.xaxis.set_ticks_position('bottom')\n",
    "ax.yaxis.set_ticks_position('left')\n",
    "\n",
    "# plot the function\n",
    "plt.plot(x,y, label = 'y=e^x')\n",
    "plt.plot(x,z1, label = 'Deg 1')\n",
    "plt.plot(x,z2, label = 'Deg 2')\n",
    "plt.plot(x,z3, label = 'Deg 3')\n",
    "plt.plot(x,z4, label = 'Deg 4')\n",
    "plt.plot(x,z5, label = 'Deg 5')\n",
    "\n",
    "# show a legend on the plot \n",
    "plt.legend(loc='upper left') \n",
    "\n",
    "plt.title('First McLaurin Polynomials for y=e^x')\n",
    "# show the plot\n",
    "plt.show()\n",
    "\n"
   ]
  },
  {
   "cell_type": "markdown",
   "metadata": {},
   "source": [
    "From the graph, particularly on the right side, we can see that the higher degree of the McLaurin polynomial, the polynomial gets closer to the graph of $e^x$. This means that more values of $e^x$ can be approximated by the polynomials as the degrees get higher. You can check the accuracy of the polynomials by doing the activity below:\n",
    "\n",
    "\n",
    "\n",
    "**For practice:**\n",
    "Using $f(x)=e^x$, the first six McLaurin polynomials for $e^x$, and $x=2$. Find the following:\n",
    "\n",
    "A.\n",
    "   1. $f(2)$\n",
    "   2. For $n=1,2,\\ldots, 5$, find $P_n(2)$.\n",
    "   \n",
    "    \n"
   ]
  },
  {
   "cell_type": "markdown",
   "metadata": {},
   "source": [
    "Now that we have learned that the Taylor polynomials can be used to approximate the value of a function. We will now illustrate the truncation error. Let us consider using previous $P_5(x)$ to approximate $f(x)=e^x$ at $x=2$. By Taylor's Theorem, there exists $\\xi$ between $x_0=0$ and $x=2$ such that $$f(x)=P_5(x)+R_5(x)$$ or $$e^x=1+x+\\frac{x^2}{2}+\\frac{x^3}{6}+\\frac{x^4}{24}+\\frac{x^5}{120}+\\frac{e^{\\xi(x)}x^6}{6!}.$$ Specifically, when $x=2$, the truncation error is given by $$e^{\\xi(2)}\\frac{64}{720}\\approx e^{\\xi(2)}0.088889.$$ It is difficult to find the specific value of $e^{\\xi(2)}$ but we can find a bound for it. Since $e^x$ is increasing over the interval $[0,2]$, we know that $$e^{\\xi(2)}\\leq e^2\\approx 7.389056.$$ Thus, the truncation error is bounded by $$\\left|\\frac{e^{\\xi(x)}x^6}{6!}\\right|\\leq 0.656 806.$$ This is indeed the case, since the *absolute error*, $$|e^2-P_5(2)|=|7.389056-7.266667|=0.122389\\leq0.656 806.$$\n",
    "\n",
    "*Note: The truncation error above is only associated to the polynomial $P_5(x)$. If we have used $P_3(x)$, there will be a different truncation error associated to $P_3(x)$. One will see in the future lessons that the ability to bound the truncation error is crucial in the finding the maximum tolerance or error.*\n",
    "\n",
    "## Assessment Activity (10 minutes):\n",
    "\n",
    "1. Find $P_2(x)$ for the function $f(x)=e^x\\cos x$ about $x_0=0$.\n",
    "2. Use $P_2(0.5)$ to approximate $f(0.5)$.\n",
    "3. Find an upper bound for the truncation error."
   ]
  },
  {
   "cell_type": "markdown",
   "metadata": {},
   "source": [
    "### References:\n",
    "1. *Introduction to Numerical Analysis* by Suli and Mayers \n",
    "2. *Numerical Analysis* by Timothy Sauer \n",
    "3. *Numerical Analysis* by Burden and Faires \n",
    "4. *Numerical Methods using Matlab* by Mathews and Fink "
   ]
  },
  {
   "cell_type": "code",
   "execution_count": null,
   "metadata": {},
   "outputs": [],
   "source": []
  }
 ],
 "metadata": {
  "kernelspec": {
   "display_name": "Python 3",
   "language": "python",
   "name": "python3"
  },
  "language_info": {
   "codemirror_mode": {
    "name": "ipython",
    "version": 3
   },
   "file_extension": ".py",
   "mimetype": "text/x-python",
   "name": "python",
   "nbconvert_exporter": "python",
   "pygments_lexer": "ipython3",
   "version": "3.7.6"
  }
 },
 "nbformat": 4,
 "nbformat_minor": 4
}
